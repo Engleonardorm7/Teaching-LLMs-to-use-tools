{
 "cells": [
  {
   "cell_type": "code",
   "execution_count": 3,
   "id": "c3a19ca3-ff41-4c8c-9a82-16eea561ca32",
   "metadata": {},
   "outputs": [],
   "source": [
    "!pip -q install python-pptx"
   ]
  },
  {
   "cell_type": "code",
   "execution_count": 4,
   "id": "0bbaeca4-d866-4dac-8b7a-9e6a9e743bf5",
   "metadata": {},
   "outputs": [],
   "source": [
    "from pptx import Presentation\n",
    "from pptx.util import Inches, Pt\n",
    "from pptx.enum.text import PP_ALIGN\n",
    "from pptx.dml.color import RGBColor\n",
    "\n",
    "class PresentationAPI:\n",
    "    def __init__(self):\n",
    "        self.prs = Presentation()\n",
    "\n",
    "    def create_presentation(self, name):\n",
    "        self.prs = Presentation()\n",
    "        self.name = name\n",
    "        print(f\"Presentation '{name}' created successfully.\")\n",
    "\n",
    "    def add_slide(self, layout='title'):\n",
    "        layout_dict = {\n",
    "            'title': 0,\n",
    "            'title and content': 1,\n",
    "            'section header': 2,\n",
    "            'two content': 3,\n",
    "            'comparison': 4,\n",
    "            'title only': 5,\n",
    "            'blank': 6,\n",
    "            'content with caption': 7,\n",
    "            'picture with caption': 8\n",
    "        }\n",
    "        slide_layout = self.prs.slide_layouts[layout_dict[layout.lower()]]\n",
    "        slide = self.prs.slides.add_slide(slide_layout)\n",
    "        return slide\n",
    "\n",
    "    def add_text_to_slide(self, slide_num, text, placeholder=0):\n",
    "        slide = self.prs.slides[slide_num - 1]\n",
    "        text_frame = slide.placeholders[placeholder].text_frame\n",
    "        text_frame.text = text\n",
    "        print(f\"Added text to slide {slide_num}: '{text}'\")\n",
    "\n",
    "    def change_font_size(self, slide_num, placeholder_num, font_size):\n",
    "        slide = self.prs.slides[slide_num - 1]\n",
    "        text_frame = slide.placeholders[placeholder_num].text_frame\n",
    "        for paragraph in text_frame.paragraphs:\n",
    "            for run in paragraph.runs:\n",
    "                run.font.size = Pt(font_size)\n",
    "        print(f\"Changed font size in slide {slide_num}, placeholder {placeholder_num} to {font_size} pt\")\n",
    "\n",
    "    def change_font(self, slide_num, placeholder_num, font_name):\n",
    "        slide = self.prs.slides[slide_num - 1]\n",
    "        text_frame = slide.placeholders[placeholder_num].text_frame\n",
    "        for paragraph in text_frame.paragraphs:\n",
    "            for run in paragraph.runs:\n",
    "                run.font.name = font_name\n",
    "        print(f\"Changed font in slide {slide_num}, placeholder {placeholder_num} to {font_name}\")\n",
    "\n",
    "    def save_presentation(self, file_path):\n",
    "        self.prs.save(file_path)\n",
    "        print(f\"Presentation saved as '{file_path}'\")\n",
    "\n",
    "    def change_background_color(self, slide_num, color):\n",
    "        slide = self.prs.slides[slide_num - 1]\n",
    "        background = slide.background\n",
    "        fill = background.fill\n",
    "        fill.solid()\n",
    "        fill.fore_color.rgb = RGBColor(color[0], color[1], color[2])\n",
    "        print(f\"Changed background color of slide {slide_num} to RGB{color}\")\n",
    "\n",
    "    def add_bullet_point(self, slide_num, text, placeholder=1):\n",
    "        slide = self.prs.slides[slide_num - 1]\n",
    "        text_frame = slide.placeholders[placeholder].text_frame\n",
    "        p = text_frame.add_paragraph()\n",
    "        p.text = text\n",
    "        p.level = 0\n",
    "        print(f\"Added bullet point to slide {slide_num}: '{text}'\")\n",
    "\n",
    "        \n",
    "api = PresentationAPI()"
   ]
  },
  {
   "cell_type": "code",
   "execution_count": 5,
   "id": "075c18d9-09f0-4e25-8ec4-cf3ee8ca628d",
   "metadata": {},
   "outputs": [
    {
     "name": "stdout",
     "output_type": "stream",
     "text": [
      "Title slide created successfully.\n"
     ]
    }
   ],
   "source": [
    "#*********************************Paste the model responses here and run the script****** ***** *******************************\n",
    "\n",
    "#For example, for the response shown in the Phi3 model, just copy and paste the code from the corresponding prompt, in this case:\n",
    "\n",
    "# api.create_presentation('Yellow Slides')\n",
    "\n",
    "# titles = [\"Slide 1\", \"Slide 2\", \"Slide 3\", \"Slide 4\", \"Slide 5\"]\n",
    "# bullet_points = [\n",
    "#     [\"Point 1\", \"Point 2\", \"Point 3\", \"Point 4\"],\n",
    "#     [\"Item A\", \"Item B\", \"Item C\", \"Item D\"],\n",
    "#     [\"Fact 1\", \"Fact 2\", \"Fact 3\", \"Fact 4\"],\n",
    "#     [\"Detail X\", \"Detail Y\", \"Detail Z\", \"Detail W\"],\n",
    "#     [\"Insight 1\", \"Insight 2\", \"Insight 3\", \"Insight 4\"]\n",
    "# ]\n",
    "\n",
    "# for i in range(5):\n",
    "#     api.add_slide(layout='title and content')\n",
    "#     api.change_background_color(i + 1, (255, 255, 0))\n",
    "#     api.add_text_to_slide(i + 1, titles[i], placeholder=0)\n",
    "#     for point in bullet_points[i]:\n",
    "#         api.add_bullet_point(i + 1, point)\n",
    "#     api.change_font(i + 1, 0, 'Calibri')  \n",
    "#     api.change_font_size(i + 1, 0, 45)  \n",
    "#     api.change_font(i + 1, 1, 'Calibri')  \n",
    "#     api.change_font_size(i + 1, 1, 20)  \n",
    "# api.save_presentation('yellow_slides.pptx')"
   ]
  },
  {
   "cell_type": "code",
   "execution_count": null,
   "id": "dddab62f-72ea-4df8-9698-e7c4aeec21c3",
   "metadata": {},
   "outputs": [],
   "source": []
  }
 ],
 "metadata": {
  "kernelspec": {
   "display_name": "Python 3 (ipykernel)",
   "language": "python",
   "name": "python3"
  },
  "language_info": {
   "codemirror_mode": {
    "name": "ipython",
    "version": 3
   },
   "file_extension": ".py",
   "mimetype": "text/x-python",
   "name": "python",
   "nbconvert_exporter": "python",
   "pygments_lexer": "ipython3",
   "version": "3.10.13"
  }
 },
 "nbformat": 4,
 "nbformat_minor": 5
}
